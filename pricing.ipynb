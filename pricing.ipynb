{
 "cells": [
  {
   "cell_type": "code",
   "execution_count": 1,
   "outputs": [],
   "source": [
    "import numpy as np\n",
    "import pandas as pd\n",
    "import matplotlib.pyplot as plt\n",
    "from sklearn import metrics\n",
    "from sklearn.ensemble import RandomForestRegressor\n",
    "from sklearn.linear_model import LinearRegression\n",
    "from lightgbm import LGBMRegressor\n",
    "from sklearn.model_selection import GridSearchCV\n",
    "from sklearn.model_selection import train_test_split\n",
    "from sklearn.preprocessing import LabelEncoder, StandardScaler, Normalizer"
   ],
   "metadata": {
    "collapsed": false,
    "ExecuteTime": {
     "end_time": "2024-01-18T11:27:32.870032Z",
     "start_time": "2024-01-18T11:27:30.569332800Z"
    }
   },
   "id": "f13d00d6e790c8ab"
  },
  {
   "cell_type": "code",
   "execution_count": 2,
   "outputs": [],
   "source": [
    "data = pd.read_csv(\"train.csv\")"
   ],
   "metadata": {
    "collapsed": false,
    "ExecuteTime": {
     "end_time": "2024-01-18T11:27:32.905157400Z",
     "start_time": "2024-01-18T11:27:32.872999500Z"
    }
   },
   "id": "c9bff5aa38b7625d"
  },
  {
   "cell_type": "code",
   "execution_count": 3,
   "outputs": [
    {
     "data": {
      "text/plain": "   Id  MSSubClass MSZoning  LotFrontage  LotArea Street Alley LotShape  \\\n0   1          60       RL         65.0     8450   Pave   NaN      Reg   \n1   2          20       RL         80.0     9600   Pave   NaN      Reg   \n2   3          60       RL         68.0    11250   Pave   NaN      IR1   \n3   4          70       RL         60.0     9550   Pave   NaN      IR1   \n4   5          60       RL         84.0    14260   Pave   NaN      IR1   \n\n  LandContour Utilities  ... PoolArea PoolQC Fence MiscFeature MiscVal MoSold  \\\n0         Lvl    AllPub  ...        0    NaN   NaN         NaN       0      2   \n1         Lvl    AllPub  ...        0    NaN   NaN         NaN       0      5   \n2         Lvl    AllPub  ...        0    NaN   NaN         NaN       0      9   \n3         Lvl    AllPub  ...        0    NaN   NaN         NaN       0      2   \n4         Lvl    AllPub  ...        0    NaN   NaN         NaN       0     12   \n\n  YrSold  SaleType  SaleCondition  SalePrice  \n0   2008        WD         Normal     208500  \n1   2007        WD         Normal     181500  \n2   2008        WD         Normal     223500  \n3   2006        WD        Abnorml     140000  \n4   2008        WD         Normal     250000  \n\n[5 rows x 81 columns]",
      "text/html": "<div>\n<style scoped>\n    .dataframe tbody tr th:only-of-type {\n        vertical-align: middle;\n    }\n\n    .dataframe tbody tr th {\n        vertical-align: top;\n    }\n\n    .dataframe thead th {\n        text-align: right;\n    }\n</style>\n<table border=\"1\" class=\"dataframe\">\n  <thead>\n    <tr style=\"text-align: right;\">\n      <th></th>\n      <th>Id</th>\n      <th>MSSubClass</th>\n      <th>MSZoning</th>\n      <th>LotFrontage</th>\n      <th>LotArea</th>\n      <th>Street</th>\n      <th>Alley</th>\n      <th>LotShape</th>\n      <th>LandContour</th>\n      <th>Utilities</th>\n      <th>...</th>\n      <th>PoolArea</th>\n      <th>PoolQC</th>\n      <th>Fence</th>\n      <th>MiscFeature</th>\n      <th>MiscVal</th>\n      <th>MoSold</th>\n      <th>YrSold</th>\n      <th>SaleType</th>\n      <th>SaleCondition</th>\n      <th>SalePrice</th>\n    </tr>\n  </thead>\n  <tbody>\n    <tr>\n      <th>0</th>\n      <td>1</td>\n      <td>60</td>\n      <td>RL</td>\n      <td>65.0</td>\n      <td>8450</td>\n      <td>Pave</td>\n      <td>NaN</td>\n      <td>Reg</td>\n      <td>Lvl</td>\n      <td>AllPub</td>\n      <td>...</td>\n      <td>0</td>\n      <td>NaN</td>\n      <td>NaN</td>\n      <td>NaN</td>\n      <td>0</td>\n      <td>2</td>\n      <td>2008</td>\n      <td>WD</td>\n      <td>Normal</td>\n      <td>208500</td>\n    </tr>\n    <tr>\n      <th>1</th>\n      <td>2</td>\n      <td>20</td>\n      <td>RL</td>\n      <td>80.0</td>\n      <td>9600</td>\n      <td>Pave</td>\n      <td>NaN</td>\n      <td>Reg</td>\n      <td>Lvl</td>\n      <td>AllPub</td>\n      <td>...</td>\n      <td>0</td>\n      <td>NaN</td>\n      <td>NaN</td>\n      <td>NaN</td>\n      <td>0</td>\n      <td>5</td>\n      <td>2007</td>\n      <td>WD</td>\n      <td>Normal</td>\n      <td>181500</td>\n    </tr>\n    <tr>\n      <th>2</th>\n      <td>3</td>\n      <td>60</td>\n      <td>RL</td>\n      <td>68.0</td>\n      <td>11250</td>\n      <td>Pave</td>\n      <td>NaN</td>\n      <td>IR1</td>\n      <td>Lvl</td>\n      <td>AllPub</td>\n      <td>...</td>\n      <td>0</td>\n      <td>NaN</td>\n      <td>NaN</td>\n      <td>NaN</td>\n      <td>0</td>\n      <td>9</td>\n      <td>2008</td>\n      <td>WD</td>\n      <td>Normal</td>\n      <td>223500</td>\n    </tr>\n    <tr>\n      <th>3</th>\n      <td>4</td>\n      <td>70</td>\n      <td>RL</td>\n      <td>60.0</td>\n      <td>9550</td>\n      <td>Pave</td>\n      <td>NaN</td>\n      <td>IR1</td>\n      <td>Lvl</td>\n      <td>AllPub</td>\n      <td>...</td>\n      <td>0</td>\n      <td>NaN</td>\n      <td>NaN</td>\n      <td>NaN</td>\n      <td>0</td>\n      <td>2</td>\n      <td>2006</td>\n      <td>WD</td>\n      <td>Abnorml</td>\n      <td>140000</td>\n    </tr>\n    <tr>\n      <th>4</th>\n      <td>5</td>\n      <td>60</td>\n      <td>RL</td>\n      <td>84.0</td>\n      <td>14260</td>\n      <td>Pave</td>\n      <td>NaN</td>\n      <td>IR1</td>\n      <td>Lvl</td>\n      <td>AllPub</td>\n      <td>...</td>\n      <td>0</td>\n      <td>NaN</td>\n      <td>NaN</td>\n      <td>NaN</td>\n      <td>0</td>\n      <td>12</td>\n      <td>2008</td>\n      <td>WD</td>\n      <td>Normal</td>\n      <td>250000</td>\n    </tr>\n  </tbody>\n</table>\n<p>5 rows × 81 columns</p>\n</div>"
     },
     "execution_count": 3,
     "metadata": {},
     "output_type": "execute_result"
    }
   ],
   "source": [
    "data.head()"
   ],
   "metadata": {
    "collapsed": false,
    "ExecuteTime": {
     "end_time": "2024-01-18T11:27:32.920439900Z",
     "start_time": "2024-01-18T11:27:32.894186800Z"
    }
   },
   "id": "86da181cc9e1863"
  },
  {
   "cell_type": "code",
   "execution_count": 4,
   "outputs": [],
   "source": [
    "def is_numeric_column(column):\n",
    "    try:\n",
    "        pd.to_numeric(column, errors='raise')\n",
    "        return True\n",
    "    except ValueError:\n",
    "        return False\n",
    "\n",
    "def prepare_data_new(data):\n",
    "    data['LotFrontage'] = data['LotFrontage'].fillna(data['LotFrontage'].mean())\n",
    "    data.drop(['Alley'], axis=1,inplace=True)\n",
    "    data.drop(['FireplaceQu'], axis=1,inplace=True)\n",
    "    data.drop(['PoolQC'], axis=1,inplace=True)\n",
    "    data.drop(['Fence'], axis=1,inplace=True)\n",
    "    data.drop(['MiscFeature'], axis=1,inplace=True)\n",
    "    for column in data.columns:\n",
    "        if data[column].isnull().sum()>0:\n",
    "            data[column] = data[column].fillna(data[column].mode()[0])\n",
    "        data_column = data[[column]].values\n",
    "        if not is_numeric_column(data[column]):\n",
    "            label = LabelEncoder()\n",
    "            label.fit(data[column])\n",
    "            data[column]=label.transform(data[column])\n",
    "        elif column!='SalePrice':\n",
    "            scaler = StandardScaler()\n",
    "            data_column =  scaler.fit_transform(data_column)\n",
    "            data[column] = data_column\n",
    "            \n",
    "def plot_standart(real,pred):\n",
    "    plt.plot(real, label='Real')\n",
    "    plt.plot(pred, label='Prediction')\n",
    "    plt.legend()\n",
    "    plt.xlabel('Index')\n",
    "    plt.ylabel('Value')\n",
    "    plt.title('Real vs Prediction')\n",
    "    plt.show()\n",
    "    \n",
    "def plot_sorted(real,pred):\n",
    "    real_sorted=sorted(real)\n",
    "    pred_sorted=sorted(pred)\n",
    "    plt.plot(real_sorted, label='Real')\n",
    "    plt.plot(pred_sorted, label='Prediction')\n",
    "    plt.legend()\n",
    "    plt.xlabel('Index')\n",
    "    plt.ylabel('Value')\n",
    "    plt.title('Real vs Prediction')\n",
    "    plt.show()\n",
    "    \n",
    "def hist_prediction(real,pred):\n",
    "    bin_count=100\n",
    "    plt.hist(pred, bins=bin_count, edgecolor='black')\n",
    "    plt.hist(real, bins=bin_count, edgecolor='black')\n",
    "    plt.xlabel('Index')\n",
    "    plt.ylabel('Count')\n",
    "    plt.title('Распределение')"
   ],
   "metadata": {
    "collapsed": false,
    "ExecuteTime": {
     "end_time": "2024-01-18T11:27:32.953048800Z",
     "start_time": "2024-01-18T11:27:32.927339800Z"
    }
   },
   "id": "7467943f0a109ae1"
  },
  {
   "cell_type": "code",
   "execution_count": 5,
   "outputs": [
    {
     "data": {
      "text/plain": "Id                 0\nMSSubClass         0\nMSZoning           0\nLotFrontage      259\nLotArea            0\n                ... \nMoSold             0\nYrSold             0\nSaleType           0\nSaleCondition      0\nSalePrice          0\nLength: 81, dtype: int64"
     },
     "execution_count": 5,
     "metadata": {},
     "output_type": "execute_result"
    }
   ],
   "source": [
    "data.isnull().sum()"
   ],
   "metadata": {
    "collapsed": false,
    "ExecuteTime": {
     "end_time": "2024-01-18T11:27:32.955277100Z",
     "start_time": "2024-01-18T11:27:32.933328300Z"
    }
   },
   "id": "311b73ccbb6ba221"
  },
  {
   "cell_type": "code",
   "execution_count": null,
   "outputs": [],
   "source": [
    "params = ['1stFlrSF','2ndFlrSF','MasVnrArea']\n",
    "for param in params:\n",
    "    class_price = data.groupby(param)[['SalePrice']].mean()\n",
    "    param_values = class_price.index.values\n",
    "    saleprice_values = class_price['SalePrice'].values\n",
    "    plt.plot(param_values, saleprice_values, 'o-')\n",
    "    \n",
    "    # Добавьте название осей\n",
    "    plt.xlabel(param)\n",
    "    plt.ylabel('SalePrice')\n",
    "    \n",
    "    # Показатьграфик\n",
    "    plt.show()"
   ],
   "metadata": {
    "collapsed": false,
    "is_executing": true,
    "ExecuteTime": {
     "start_time": "2024-01-18T11:27:32.945498Z"
    }
   },
   "id": "4b8aee95fe51ee92"
  },
  {
   "cell_type": "code",
   "execution_count": null,
   "outputs": [],
   "source": [
    "#data_map = prepare_data_auto(data)\n",
    "prepare_data_new(data)\n",
    "data.isnull().sum()"
   ],
   "metadata": {
    "collapsed": false,
    "is_executing": true
   },
   "id": "b9dde8bb303306e5"
  },
  {
   "cell_type": "code",
   "execution_count": null,
   "outputs": [],
   "source": [
    "data.head(20)"
   ],
   "metadata": {
    "collapsed": false,
    "is_executing": true
   },
   "id": "6d14562e259ad478"
  },
  {
   "cell_type": "code",
   "execution_count": null,
   "outputs": [],
   "source": [
    "plt.hist(data['SalePrice'], bins=100, edgecolor='black')\n",
    "\n",
    "# Добавьте название осей\n",
    "plt.xlabel('SalePrice')\n",
    "plt.ylabel('Count')\n",
    "\n",
    "# Добавьте заголовок графика\n",
    "plt.title('Распределение SalePrice')"
   ],
   "metadata": {
    "collapsed": false,
    "is_executing": true
   },
   "id": "5c6838cb2a4effaa"
  },
  {
   "cell_type": "code",
   "execution_count": null,
   "outputs": [],
   "source": [
    "train_target = data['SalePrice']\n",
    "drop_params = ['Id']\n",
    "#drop_params = data.drop(['OverallQual','OverallCond', 'SalePrice','ExterQual', 'ExterCond','SaleCondition','SaleType','BsmtQual','BsmtCond','1stFlrSF','2ndFlrSF','MasVnrArea','LotArea'], axis=1)\n",
    "train_data = data.drop(drop_params, axis=1)\n",
    "train_data = train_data.drop('SalePrice', axis=1)"
   ],
   "metadata": {
    "collapsed": false,
    "is_executing": true
   },
   "id": "27614a9961c4c923"
  },
  {
   "cell_type": "code",
   "execution_count": null,
   "outputs": [],
   "source": [
    "#model = LGBMRegressor(random_state=10, objective='mae', learning_rate=0.247332, n_estimators=300, num_leaves=30, max_depth=12, feature_fraction = 0.89952, min_data_in_leaf = 10)\n",
    "model=RandomForestRegressor(max_depth=None,min_samples_split=2, n_estimators=200)"
   ],
   "metadata": {
    "collapsed": false,
    "is_executing": true
   },
   "id": "4780959c8951d08c"
  },
  {
   "cell_type": "code",
   "execution_count": null,
   "outputs": [],
   "source": [
    "param_grid = {\n",
    "    'n_estimators': [50, 100, 200],  # число деревьев\n",
    "    'max_depth': [None, 5, 10],      # максимальная глубина деревьев\n",
    "    'min_samples_split': [2, 5, 10]  # минимальное число объектов для разделения узла\n",
    "}\n",
    "\n",
    "grid_search = GridSearchCV(model, param_grid, scoring='neg_mean_squared_error', cv=5)"
   ],
   "metadata": {
    "collapsed": false,
    "is_executing": true
   },
   "id": "daf4784f1ae47c89"
  },
  {
   "cell_type": "code",
   "execution_count": null,
   "outputs": [],
   "source": [
    "X_train, X_test, y_train, y_test = train_test_split(train_data, train_target, test_size=0.2, random_state=42)\n",
    "model.fit(X_train, y_train)\n",
    "test_pred = model.predict(X_test)\n",
    "metric = metrics.mean_absolute_percentage_error(y_test, test_pred)\n",
    "metric"
   ],
   "metadata": {
    "collapsed": false,
    "is_executing": true
   },
   "id": "5d2d0f9817a62e11"
  },
  {
   "cell_type": "code",
   "execution_count": null,
   "outputs": [],
   "source": [
    "plot_standart(y_test.to_list(),test_pred)\n",
    "plot_sorted(y_test,test_pred)\n",
    "hist_prediction(y_test,test_pred)"
   ],
   "metadata": {
    "collapsed": false,
    "is_executing": true
   },
   "id": "e3f18862e96197dd"
  },
  {
   "cell_type": "code",
   "execution_count": null,
   "outputs": [],
   "source": [
    "#print(\"Лучшие параметры: \", grid_search.best_params_)\n",
    "#print(\"Лучшее MSE: \", -grid_search.best_score_)"
   ],
   "metadata": {
    "collapsed": false,
    "is_executing": true
   },
   "id": "3f64c8ab53d8a209"
  }
 ],
 "metadata": {
  "kernelspec": {
   "name": "python3",
   "language": "python",
   "display_name": "Python 3 (ipykernel)"
  }
 },
 "nbformat": 4,
 "nbformat_minor": 5
}
